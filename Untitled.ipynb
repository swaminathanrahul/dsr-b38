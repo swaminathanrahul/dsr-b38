{
 "cells": [
  {
   "cell_type": "code",
   "execution_count": 2,
   "id": "260f4b4e-78bc-42df-9b1e-e7d6274be043",
   "metadata": {},
   "outputs": [],
   "source": [
    "import pandas as pd"
   ]
  }
 ],
 "metadata": {
  "kernelspec": {
   "display_name": "dsr-b38",
   "language": "python",
   "name": "dsr-b38"
  },
  "language_info": {
   "codemirror_mode": {
    "name": "ipython",
    "version": 3
   },
   "file_extension": ".py",
   "mimetype": "text/x-python",
   "name": "python",
   "nbconvert_exporter": "python",
   "pygments_lexer": "ipython3",
   "version": "3.12.2"
  }
 },
 "nbformat": 4,
 "nbformat_minor": 5
}
